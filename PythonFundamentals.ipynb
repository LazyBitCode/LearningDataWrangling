{
 "cells": [
  {
   "cell_type": "markdown",
   "id": "0a8ee000-bff4-440e-b58c-2d54487fa04c",
   "metadata": {},
   "source": [
    "Iterators"
   ]
  },
  {
   "cell_type": "code",
   "execution_count": 111,
   "id": "1b93fcb0-6e6b-4b74-af60-ca17a17d5e4e",
   "metadata": {},
   "outputs": [
    {
     "name": "stdout",
     "output_type": "stream",
     "text": [
      "1  2  3  A  p  p  l  e  [5, 6]  7  "
     ]
    }
   ],
   "source": [
    "# dir() returns the list of attributes, __iter__() attribute is present in iterable objects and returns the iterator for that object\n",
    "dummy = [[1,2,3],\"Apple\",4,[[5,6],7]]\n",
    "for i in dummy:\n",
    "    if \"__iter__\" in dir(i):\n",
    "        for j in i:\n",
    "            print(j,\" \",end=\"\")"
   ]
  },
  {
   "cell_type": "code",
   "execution_count": 112,
   "id": "19a45c37-c0d6-4223-8ad7-9a500c7bd18d",
   "metadata": {},
   "outputs": [
    {
     "name": "stdout",
     "output_type": "stream",
     "text": [
      "0  1  2  3  4  \n",
      "0  0  0  0  0  \n",
      "['A', 'p', 'p', 'l', 'e']\n"
     ]
    }
   ],
   "source": [
    "# iter() can be used to call the dunder method __iter__(), similarly next() can be used instead of __next__()\n",
    "dummy = range(5)\n",
    "# dummy_iterator = dummy.__iterator__()\n",
    "dummy_iterator = iter(dummy)\n",
    "\n",
    "for i in range(len(dummy)):\n",
    "    # print(dummy_iterator.__next__(), \" \",end=\"\")\n",
    "    print(next(dummy_iterator),\" \",end=\"\")\n",
    "print()\n",
    "\n",
    "# every time the iterator initializes, it is reset\n",
    "for i in range(len(dummy)):\n",
    "    print(next(iter(dummy)),\" \",end=\"\")\n",
    "print()\n",
    "print(list(iter(\"Apple\")))"
   ]
  },
  {
   "cell_type": "code",
   "execution_count": 113,
   "id": "d4009abb-a7ea-42dc-8dc4-1b2c26c6406a",
   "metadata": {},
   "outputs": [
    {
     "name": "stdout",
     "output_type": "stream",
     "text": [
      "A  p  p  l  e  \n",
      "The iterator has been exausted \n"
     ]
    }
   ],
   "source": [
    "# Exceptions in iterators\n",
    "dummy_iterator = iter(\"Apple\")\n",
    "while True:\n",
    "    try:\n",
    "        print(next(dummy_iterator),\" \",end=\"\")\n",
    "    except StopIteration:\n",
    "        print(\"\\nThe iterator has been exausted \")\n",
    "        break"
   ]
  },
  {
   "cell_type": "code",
   "execution_count": null,
   "id": "10dac5c1-5f4d-4056-8a38-93553cea1dc4",
   "metadata": {},
   "outputs": [],
   "source": []
  },
  {
   "cell_type": "markdown",
   "id": "a8c532b6-8c94-4538-9728-b414cd2c659a",
   "metadata": {},
   "source": [
    "Comprehensions in python"
   ]
  },
  {
   "cell_type": "code",
   "execution_count": 115,
   "id": "2381826d-34fa-4ed2-ad21-54d4d33a6214",
   "metadata": {},
   "outputs": [
    {
     "name": "stdout",
     "output_type": "stream",
     "text": [
      "0\n",
      "[1, 4, 9]\n",
      "[0, 4, 16, 36, 64]\n"
     ]
    }
   ],
   "source": [
    "# Implementing the ternary operator in python\n",
    "dummy = 2 if 1<0 else 0\n",
    "print(dummy)\n",
    "# List comprehension\n",
    "dummy = [(x+1)**2 for x in range(3)]\n",
    "print(dummy)\n",
    "# Comprehension with conditionals\n",
    "dummy = [x**2 for x in range(10) if x%2==0]\n",
    "print(dummy)"
   ]
  },
  {
   "cell_type": "markdown",
   "id": "0ccaefae-ea34-4a02-bc98-949a980f30a9",
   "metadata": {},
   "source": [
    "Lambda Expressions (Anonymous functions)"
   ]
  },
  {
   "cell_type": "code",
   "execution_count": 117,
   "id": "5569c885-9913-4b43-83c0-c400cf06bed0",
   "metadata": {},
   "outputs": [
    {
     "name": "stdout",
     "output_type": "stream",
     "text": [
      "3\n",
      "2\n"
     ]
    }
   ],
   "source": [
    "# Single variable lambda expression\n",
    "increment = lambda x: x+1\n",
    "# Multi variable lambda expression\n",
    "add = lambda x,y: x+y\n",
    "print(add(increment(1),1))\n",
    "# disposing the function and storing an int instead\n",
    "increment = 2\n",
    "print(increment)"
   ]
  },
  {
   "cell_type": "code",
   "execution_count": 150,
   "id": "b35163d7-df7a-41c9-b3be-a85622669ba5",
   "metadata": {},
   "outputs": [
    {
     "name": "stdout",
     "output_type": "stream",
     "text": [
      "[1, 4, 9]\n",
      "[1, 2, 5, 10, 17, 26, 37, 50, 65, 82]\n",
      "45\n",
      "3\n",
      "120\n"
     ]
    }
   ],
   "source": [
    "import math\n",
    "from functools import reduce\n",
    "# Using the map(function,iterable) function with lambda expressions\n",
    "dummy = list(map(lambda x: x**2, [1,2,3]))\n",
    "print(dummy)\n",
    "# Using the filter(boolean_function,iterable) method with lambda expressions to check all numbers up until 100 that can be expressed as x^2+1\n",
    "dummy = list(filter(lambda x: (x-1)**0.5 == math.floor((x-1)**0.5),[x+1 for x in range(100)]))\n",
    "print(dummy)\n",
    "# Using the reduce() method to compute a single output from an iterable, (((a*b)*c)*d)\n",
    "print(reduce(lambda x,y:x+y,range(10)))\n",
    "print(reduce(lambda x,y: x if x>y else y,[1,2,3,2,1]))\n",
    "print(reduce(lambda x,y: x*y,[x+1 for x in range(5)]))"
   ]
  },
  {
   "cell_type": "code",
   "execution_count": null,
   "id": "e6fd8e17-f1e1-4681-a6c7-d799848c7433",
   "metadata": {},
   "outputs": [],
   "source": []
  }
 ],
 "metadata": {
  "kernelspec": {
   "display_name": "Python 3 (ipykernel)",
   "language": "python",
   "name": "python3"
  },
  "language_info": {
   "codemirror_mode": {
    "name": "ipython",
    "version": 3
   },
   "file_extension": ".py",
   "mimetype": "text/x-python",
   "name": "python",
   "nbconvert_exporter": "python",
   "pygments_lexer": "ipython3",
   "version": "3.12.4"
  }
 },
 "nbformat": 4,
 "nbformat_minor": 5
}
