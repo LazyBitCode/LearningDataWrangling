{
 "cells": [
  {
   "cell_type": "markdown",
   "id": "8f252740-09e0-4718-a032-9bd175fa789c",
   "metadata": {},
   "source": [
    "<h1>Iterators</h1>"
   ]
  },
  {
   "cell_type": "code",
   "execution_count": 99,
   "id": "1b93fcb0-6e6b-4b74-af60-ca17a17d5e4e",
   "metadata": {},
   "outputs": [
    {
     "name": "stdout",
     "output_type": "stream",
     "text": [
      "1  2  3  A  p  p  l  e  [5, 6]  7  \n",
      " [(0, '__abs__'), (1, '__add__'), (2, '__and__'), (3, '__bool__'), (4, '__ceil__')]\n",
      "[1, 2, 3]   Apple\n",
      "[4, [[5, 6], 7]]\n",
      "Iterator exausted\n"
     ]
    }
   ],
   "source": [
    "# dir() returns the list of attributes, __iter__() attribute is present in iterable objects and returns the iterator for that object\n",
    "dummy = [[1,2,3],\"Apple\",4,[[5,6],7]]\n",
    "for i in dummy:\n",
    "    if \"__iter__\" in dir(i):\n",
    "        for j in i:\n",
    "            print(j,\" \",end=\"\")\n",
    "# Enumerate adds an index to an iterable\n",
    "print(\"\\n\",list(enumerate(dir(5)))[:5])\n",
    "# Once the iterator has moved past an element it does not come back, even while generating a list\n",
    "dummy = iter(dummy)\n",
    "print(next(dummy),\" \",next(dummy))\n",
    "print(list(dummy))\n",
    "try:\n",
    "    print(next(dummy))\n",
    "except StopIteration:\n",
    "    print(\"Iterator exausted\")"
   ]
  },
  {
   "cell_type": "code",
   "execution_count": 101,
   "id": "19a45c37-c0d6-4223-8ad7-9a500c7bd18d",
   "metadata": {},
   "outputs": [
    {
     "name": "stdout",
     "output_type": "stream",
     "text": [
      "[1, 2, 3]\n",
      "0  1  2  3  4  \n",
      "0  0  0  0  0  "
     ]
    }
   ],
   "source": [
    "# iter() can be used to call the dunder method __iter__(), similarly next() can be used instead of __next__()\n",
    "print(list(iter({1:\"Apple\",2:\"Banana\",3:\"Mango\"})))\n",
    "dummy = range(5)\n",
    "# dummy_iterator = dummy.__iterator__()\n",
    "dummy_iterator = iter(dummy)\n",
    "\n",
    "for i in range(len(dummy)):\n",
    "    # print(dummy_iterator.__next__(), \" \",end=\"\")\n",
    "    print(next(dummy_iterator),\" \",end=\"\")\n",
    "print()\n",
    "\n",
    "# every time the iterator initializes, it is reset\n",
    "for i in range(len(dummy)):\n",
    "    print(next(iter(dummy)),\" \",end=\"\")"
   ]
  },
  {
   "cell_type": "code",
   "execution_count": 4,
   "id": "d4009abb-a7ea-42dc-8dc4-1b2c26c6406a",
   "metadata": {},
   "outputs": [
    {
     "name": "stdout",
     "output_type": "stream",
     "text": [
      "A  p  p  l  e  \n",
      "The iterator has been exausted \n"
     ]
    }
   ],
   "source": [
    "# Exceptions in iterators\n",
    "dummy_iterator = iter(\"Apple\")\n",
    "while True:\n",
    "    try:\n",
    "        print(next(dummy_iterator),\" \",end=\"\")\n",
    "    except StopIteration:\n",
    "        print(\"\\nThe iterator has been exausted \")\n",
    "        break"
   ]
  },
  {
   "cell_type": "code",
   "execution_count": 113,
   "id": "10dac5c1-5f4d-4056-8a38-93553cea1dc4",
   "metadata": {},
   "outputs": [
    {
     "name": "stdout",
     "output_type": "stream",
     "text": [
      "[1, 2, 3, 4]\n"
     ]
    }
   ],
   "source": [
    "# Generators for iteration\n",
    "def my_range(start, end):\n",
    "    current = start\n",
    "    while current<end:\n",
    "        yield current\n",
    "        current +=1\n",
    "dummy = my_range(1,5)\n",
    "print(list(my_range(1,5)))"
   ]
  },
  {
   "cell_type": "code",
   "execution_count": null,
   "id": "45a6e929-3e8d-4823-b906-0d8648d608d4",
   "metadata": {},
   "outputs": [],
   "source": [
    "# Overriding the dunder methods iter and next in a custom class\n",
    "class MyRange:\n",
    "    def __init__(self,start,end):\n",
    "        self.value = start\n",
    "        self.end = end\n",
    "    def __iter__(self):\n",
    "        return self\n",
    "    def __next__(self):\n",
    "        if self.value>=self.end:\n",
    "            raise StopIteration\n",
    "        current = self.value\n",
    "        current+=1\n",
    "        return current"
   ]
  },
  {
   "cell_type": "markdown",
   "id": "a8c532b6-8c94-4538-9728-b414cd2c659a",
   "metadata": {},
   "source": [
    "<h1>Comprehensions in python</h1>"
   ]
  },
  {
   "cell_type": "code",
   "execution_count": 31,
   "id": "2381826d-34fa-4ed2-ad21-54d4d33a6214",
   "metadata": {},
   "outputs": [
    {
     "name": "stdout",
     "output_type": "stream",
     "text": [
      "0\n",
      "[1, 4, 9]\n",
      "[0, 4, 16, 36, 64]\n",
      "['Tuesday', 'Thursday']\n",
      "[1, 2, 3, 4, 5, 6, 7, 8, 9]\n",
      "[0, 1, 4, 27, 16, 125, 36, 343, 64, 729]\n"
     ]
    }
   ],
   "source": [
    "# Implementing the ternary operator in python\n",
    "dummy = 2 if 1<0 else 0\n",
    "print(dummy)\n",
    "# List comprehension\n",
    "dummy = [(x+1)**2 for x in range(3)]\n",
    "print(dummy)\n",
    "# Comprehension with conditionals\n",
    "dummy = [x**2 for x in range(10) if x%2==0]\n",
    "print(dummy)\n",
    "# Comprehension with multiple conditionals, youcan append if conditionals but not an else at the end of the comprehension\n",
    "dummy = [s for s in [\"Monday\",\"Tuesday\",\"Thursday\",\"Tommorow\"] if s[0]==\"T\" if s[-1]==\"y\"]\n",
    "print(dummy)\n",
    "# Nested comprehension, (for row in matrix) is the first ie the outermost for loop\n",
    "matrix = [[1,2,3],[4,5,6],[7,8,9]]\n",
    "flattened = [x for row in matrix for x in row]\n",
    "print(flattened)\n",
    "# Using else in comprehensions\n",
    "dummy = [x**2 if x%2==0 else x**3 for x in range(10)]\n",
    "print(dummy)"
   ]
  },
  {
   "cell_type": "code",
   "execution_count": 93,
   "id": "e1cfd17d-bed3-452e-aa00-05a82f3f599d",
   "metadata": {},
   "outputs": [
    {
     "name": "stdout",
     "output_type": "stream",
     "text": [
      "[(0, '__abs__'), (1, '__add__'), (2, '__and__'), (3, '__bool__'), (4, '__ceil__')]\n"
     ]
    }
   ],
   "source": [
    "# Dictionary Comprehensions\n",
    "attrs = {key:value for key,value in enumerate(dir(5))}\n",
    "# dict.items() is a seperate object, it must be converted to a list or set\n",
    "print(list(attrs.items())[:5])"
   ]
  },
  {
   "cell_type": "markdown",
   "id": "0ccaefae-ea34-4a02-bc98-949a980f30a9",
   "metadata": {},
   "source": [
    "<h1>Lambda Expressions (Anonymous functions)</h1>"
   ]
  },
  {
   "cell_type": "code",
   "execution_count": 9,
   "id": "5569c885-9913-4b43-83c0-c400cf06bed0",
   "metadata": {},
   "outputs": [
    {
     "name": "stdout",
     "output_type": "stream",
     "text": [
      "3\n",
      "2\n"
     ]
    }
   ],
   "source": [
    "# Single variable lambda expression\n",
    "increment = lambda x: x+1\n",
    "# Multi variable lambda expression\n",
    "add = lambda x,y: x+y\n",
    "print(add(increment(1),1))\n",
    "# disposing the function and storing an int instead\n",
    "increment = 2\n",
    "print(increment)"
   ]
  },
  {
   "cell_type": "code",
   "execution_count": 111,
   "id": "b35163d7-df7a-41c9-b3be-a85622669ba5",
   "metadata": {},
   "outputs": [
    {
     "name": "stdout",
     "output_type": "stream",
     "text": [
      "[1, 4, 9]\n",
      "[1, 2, 5, 10, 17, 26, 37, 50, 65, 82]\n",
      "Sum =  10\n",
      "Maxima =  3\n",
      "5! =  120\n",
      "9\n"
     ]
    }
   ],
   "source": [
    "import math\n",
    "from functools import reduce\n",
    "# Using the map(function,iterable) function with lambda expressions\n",
    "dummy = list(map(lambda x: x**2, [1,2,3]))\n",
    "print(dummy)\n",
    "# Using the filter(boolean_function,iterable) method with lambda expressions to check all numbers up until 100 that can be expressed as x^2+1\n",
    "dummy = list(filter(lambda x: (x-1)**0.5 == math.floor((x-1)**0.5),[x+1 for x in range(100)]))\n",
    "print(dummy)\n",
    "# Using the reduce() method to compute a single output from an iterable, (((a*b)*c)*d)\n",
    "print(\"Sum = \",reduce(lambda x,y:x+y,range(5)))\n",
    "print(\"Maxima = \",reduce(lambda x,y: x if x>y else y,[1,2,3,2,1]))\n",
    "print(\"5! = \",reduce(lambda x,y: x*y,[x+1 for x in range(5)]))\n",
    "print(reduce(lambda x,y: x+y if x%2==0 else x-y,range(10)))"
   ]
  }
 ],
 "metadata": {
  "kernelspec": {
   "display_name": "Python 3 (ipykernel)",
   "language": "python",
   "name": "python3"
  },
  "language_info": {
   "codemirror_mode": {
    "name": "ipython",
    "version": 3
   },
   "file_extension": ".py",
   "mimetype": "text/x-python",
   "name": "python",
   "nbconvert_exporter": "python",
   "pygments_lexer": "ipython3",
   "version": "3.12.4"
  }
 },
 "nbformat": 4,
 "nbformat_minor": 5
}
